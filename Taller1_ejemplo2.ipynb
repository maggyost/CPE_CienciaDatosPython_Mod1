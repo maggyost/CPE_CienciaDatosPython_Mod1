{
  "nbformat": 4,
  "nbformat_minor": 0,
  "metadata": {
    "colab": {
      "name": "Copia de Untitled2.ipynb",
      "provenance": [],
      "include_colab_link": true
    },
    "kernelspec": {
      "name": "python3",
      "display_name": "Python 3"
    }
  },
  "cells": [
    {
      "cell_type": "markdown",
      "metadata": {
        "id": "view-in-github",
        "colab_type": "text"
      },
      "source": [
        "<a href=\"https://colab.research.google.com/github/maggyost/CPE_CienciaDatosPython_Mod1/blob/master/Taller1_ejemplo2.ipynb\" target=\"_parent\"><img src=\"https://colab.research.google.com/assets/colab-badge.svg\" alt=\"Open In Colab\"/></a>"
      ]
    },
    {
      "cell_type": "code",
      "metadata": {
        "id": "ZocZxw0Ch1z_",
        "colab_type": "code",
        "colab": {}
      },
      "source": [
        "from sklearn import datasets\n",
        "dataset = datasets.load_boston()\n"
      ],
      "execution_count": 0,
      "outputs": []
    },
    {
      "cell_type": "code",
      "metadata": {
        "id": "5lVeRZOqiNLU",
        "colab_type": "code",
        "outputId": "a7a34ae0-0a90-4bdf-aea3-ee8cf200d7c9",
        "colab": {
          "base_uri": "https://localhost:8080/",
          "height": 34
        }
      },
      "source": [
        "dataset.keys()"
      ],
      "execution_count": 0,
      "outputs": [
        {
          "output_type": "execute_result",
          "data": {
            "text/plain": [
              "dict_keys(['data', 'target', 'feature_names', 'DESCR', 'filename'])"
            ]
          },
          "metadata": {
            "tags": []
          },
          "execution_count": 3
        }
      ]
    },
    {
      "cell_type": "code",
      "metadata": {
        "id": "gwo4Q8UniujQ",
        "colab_type": "code",
        "outputId": "b24b2d17-8687-4706-ea01-3e8ac6f99e6f",
        "colab": {
          "base_uri": "https://localhost:8080/",
          "height": 34
        }
      },
      "source": [
        "print(type(dataset))"
      ],
      "execution_count": 0,
      "outputs": [
        {
          "output_type": "stream",
          "text": [
            "<class 'sklearn.utils.Bunch'>\n"
          ],
          "name": "stdout"
        }
      ]
    },
    {
      "cell_type": "code",
      "metadata": {
        "id": "BAp9lCi9iTlg",
        "colab_type": "code",
        "colab": {}
      },
      "source": [
        "# dict_keys(['data', 'target', 'feature_names', 'DESCR'])"
      ],
      "execution_count": 0,
      "outputs": []
    },
    {
      "cell_type": "code",
      "metadata": {
        "id": "vMyABTyojAG3",
        "colab_type": "code",
        "colab": {}
      },
      "source": [
        "variable_objetivo = dataset['target']\n"
      ],
      "execution_count": 0,
      "outputs": []
    },
    {
      "cell_type": "code",
      "metadata": {
        "id": "dP2MTQk5jQi4",
        "colab_type": "code",
        "colab": {}
      },
      "source": [
        "nombre_variables_independientes = dataset['feature_names']"
      ],
      "execution_count": 0,
      "outputs": []
    },
    {
      "cell_type": "code",
      "metadata": {
        "id": "qbPXv_tYjZcf",
        "colab_type": "code",
        "colab": {}
      },
      "source": [
        "variable_independientes = dataset['data']"
      ],
      "execution_count": 0,
      "outputs": []
    },
    {
      "cell_type": "code",
      "metadata": {
        "id": "QcGyFdTsj2rX",
        "colab_type": "code",
        "colab": {}
      },
      "source": [
        "from sklearn.linear_model import LinearRegression  # solo importa el modelo lineal"
      ],
      "execution_count": 0,
      "outputs": []
    },
    {
      "cell_type": "code",
      "metadata": {
        "id": "cy_oWviVj-qY",
        "colab_type": "code",
        "colab": {}
      },
      "source": [
        "LinearRegression?\n"
      ],
      "execution_count": 0,
      "outputs": []
    },
    {
      "cell_type": "code",
      "metadata": {
        "id": "XrGfuSUBlBn3",
        "colab_type": "code",
        "colab": {}
      },
      "source": [
        "modelo = LinearRegression()"
      ],
      "execution_count": 0,
      "outputs": []
    },
    {
      "cell_type": "code",
      "metadata": {
        "id": "utiGEU1XlIPj",
        "colab_type": "code",
        "outputId": "de426bee-5ec1-4b9c-b96b-55f3fa3113b2",
        "colab": {
          "base_uri": "https://localhost:8080/",
          "height": 34
        }
      },
      "source": [
        "modelo.fit(X=variable_independientes ,  y =variable_objetivo)"
      ],
      "execution_count": 0,
      "outputs": [
        {
          "output_type": "execute_result",
          "data": {
            "text/plain": [
              "LinearRegression(copy_X=True, fit_intercept=True, n_jobs=None, normalize=False)"
            ]
          },
          "metadata": {
            "tags": []
          },
          "execution_count": 26
        }
      ]
    },
    {
      "cell_type": "code",
      "metadata": {
        "id": "TX29ZqMtlSFn",
        "colab_type": "code",
        "colab": {}
      },
      "source": [
        "predicciones = modelo.predict(variable_independientes)"
      ],
      "execution_count": 0,
      "outputs": []
    },
    {
      "cell_type": "code",
      "metadata": {
        "id": "WOp3mZ2hl-IQ",
        "colab_type": "code",
        "outputId": "b8ea7cfc-403f-4342-97b3-016588fdb8a0",
        "colab": {
          "base_uri": "https://localhost:8080/",
          "height": 102
        }
      },
      "source": [
        "for y, y_pred in list(zip(variable_objetivo, predicciones))[:5]:\n",
        "  print(\"Valor Real: {:.3f} Valos Estimado: {:.5f}\".format(y,y_pred))"
      ],
      "execution_count": 0,
      "outputs": [
        {
          "output_type": "stream",
          "text": [
            "Valor Real: 24.000 Valos Estimado: 30.00384\n",
            "Valor Real: 21.600 Valos Estimado: 25.02556\n",
            "Valor Real: 34.700 Valos Estimado: 30.56760\n",
            "Valor Real: 33.400 Valos Estimado: 28.60704\n",
            "Valor Real: 36.200 Valos Estimado: 27.94352\n"
          ],
          "name": "stdout"
        }
      ]
    }
  ]
}