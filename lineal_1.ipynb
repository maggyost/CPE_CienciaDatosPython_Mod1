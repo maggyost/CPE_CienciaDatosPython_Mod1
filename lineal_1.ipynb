{
  "nbformat": 4,
  "nbformat_minor": 0,
  "metadata": {
    "colab": {
      "name": "lineal_1.ipynb",
      "provenance": [],
      "collapsed_sections": [],
      "include_colab_link": true
    },
    "kernelspec": {
      "name": "python3",
      "display_name": "Python 3"
    }
  },
  "cells": [
    {
      "cell_type": "markdown",
      "metadata": {
        "id": "view-in-github",
        "colab_type": "text"
      },
      "source": [
        "<a href=\"https://colab.research.google.com/github/maggyost/CPE_CienciaDatosPython_Mod1/blob/master/lineal_1.ipynb\" target=\"_parent\"><img src=\"https://colab.research.google.com/assets/colab-badge.svg\" alt=\"Open In Colab\"/></a>"
      ]
    },
    {
      "cell_type": "code",
      "metadata": {
        "id": "dlEa9GusLxW0",
        "colab_type": "code",
        "colab": {}
      },
      "source": [
        "import pandas as pd\n",
        "import numpy as np"
      ],
      "execution_count": 0,
      "outputs": []
    },
    {
      "cell_type": "code",
      "metadata": {
        "id": "yu8lDdBoL-rQ",
        "colab_type": "code",
        "colab": {}
      },
      "source": [
        "vehiculos = pd.read_csv(\"vehiculos_procesado.csv\", usecols = [\"consumo\",\"co2\",\"cilindros\",\"desplazamiento\"])"
      ],
      "execution_count": 0,
      "outputs": []
    },
    {
      "cell_type": "code",
      "metadata": {
        "id": "u2IKZO6QMLVJ",
        "colab_type": "code",
        "colab": {}
      },
      "source": [
        "litros_por_galon = 3.78541\n",
        "vehiculos[\"consumo_litros_milla\"] = litros_por_galon/vehiculos.consumo"
      ],
      "execution_count": 0,
      "outputs": []
    },
    {
      "cell_type": "code",
      "metadata": {
        "id": "BOrW1Fb5MhHX",
        "colab_type": "code",
        "outputId": "14b8fe7e-5f00-42ad-c6fe-80a8b1ebc025",
        "colab": {
          "base_uri": "https://localhost:8080/",
          "height": 34
        }
      },
      "source": [
        "vehiculos.shape"
      ],
      "execution_count": 4,
      "outputs": [
        {
          "output_type": "execute_result",
          "data": {
            "text/plain": [
              "(35539, 5)"
            ]
          },
          "metadata": {
            "tags": []
          },
          "execution_count": 4
        }
      ]
    },
    {
      "cell_type": "code",
      "metadata": {
        "id": "8noIhHJJMw-9",
        "colab_type": "code",
        "outputId": "feb6fdf4-2fdd-4bea-cf7b-26d2e6665043",
        "colab": {
          "base_uri": "https://localhost:8080/",
          "height": 204
        }
      },
      "source": [
        "vehiculos.head()"
      ],
      "execution_count": 5,
      "outputs": [
        {
          "output_type": "execute_result",
          "data": {
            "text/html": [
              "<div>\n",
              "<style scoped>\n",
              "    .dataframe tbody tr th:only-of-type {\n",
              "        vertical-align: middle;\n",
              "    }\n",
              "\n",
              "    .dataframe tbody tr th {\n",
              "        vertical-align: top;\n",
              "    }\n",
              "\n",
              "    .dataframe thead th {\n",
              "        text-align: right;\n",
              "    }\n",
              "</style>\n",
              "<table border=\"1\" class=\"dataframe\">\n",
              "  <thead>\n",
              "    <tr style=\"text-align: right;\">\n",
              "      <th></th>\n",
              "      <th>desplazamiento</th>\n",
              "      <th>cilindros</th>\n",
              "      <th>consumo</th>\n",
              "      <th>co2</th>\n",
              "      <th>consumo_litros_milla</th>\n",
              "    </tr>\n",
              "  </thead>\n",
              "  <tbody>\n",
              "    <tr>\n",
              "      <th>0</th>\n",
              "      <td>2.5</td>\n",
              "      <td>4.0</td>\n",
              "      <td>17</td>\n",
              "      <td>522.764706</td>\n",
              "      <td>0.222671</td>\n",
              "    </tr>\n",
              "    <tr>\n",
              "      <th>1</th>\n",
              "      <td>4.2</td>\n",
              "      <td>6.0</td>\n",
              "      <td>13</td>\n",
              "      <td>683.615385</td>\n",
              "      <td>0.291185</td>\n",
              "    </tr>\n",
              "    <tr>\n",
              "      <th>2</th>\n",
              "      <td>2.5</td>\n",
              "      <td>4.0</td>\n",
              "      <td>16</td>\n",
              "      <td>555.437500</td>\n",
              "      <td>0.236588</td>\n",
              "    </tr>\n",
              "    <tr>\n",
              "      <th>3</th>\n",
              "      <td>4.2</td>\n",
              "      <td>6.0</td>\n",
              "      <td>13</td>\n",
              "      <td>683.615385</td>\n",
              "      <td>0.291185</td>\n",
              "    </tr>\n",
              "    <tr>\n",
              "      <th>4</th>\n",
              "      <td>3.8</td>\n",
              "      <td>6.0</td>\n",
              "      <td>16</td>\n",
              "      <td>555.437500</td>\n",
              "      <td>0.236588</td>\n",
              "    </tr>\n",
              "  </tbody>\n",
              "</table>\n",
              "</div>"
            ],
            "text/plain": [
              "   desplazamiento  cilindros  consumo         co2  consumo_litros_milla\n",
              "0             2.5        4.0       17  522.764706              0.222671\n",
              "1             4.2        6.0       13  683.615385              0.291185\n",
              "2             2.5        4.0       16  555.437500              0.236588\n",
              "3             4.2        6.0       13  683.615385              0.291185\n",
              "4             3.8        6.0       16  555.437500              0.236588"
            ]
          },
          "metadata": {
            "tags": []
          },
          "execution_count": 5
        }
      ]
    },
    {
      "cell_type": "code",
      "metadata": {
        "id": "gbTHtp9tM7g4",
        "colab_type": "code",
        "colab": {}
      },
      "source": [
        "pct_entrenamiento = 0.8"
      ],
      "execution_count": 0,
      "outputs": []
    },
    {
      "cell_type": "code",
      "metadata": {
        "id": "xALC5yq3NBSi",
        "colab_type": "code",
        "colab": {}
      },
      "source": [
        "vehiculos_training = vehiculos.sample(frac=pct_entrenamiento)"
      ],
      "execution_count": 0,
      "outputs": []
    },
    {
      "cell_type": "code",
      "metadata": {
        "id": "d7uQ8a19PAUx",
        "colab_type": "code",
        "outputId": "674e9fcf-a153-4d92-cf54-a5de62304419",
        "colab": {
          "base_uri": "https://localhost:8080/",
          "height": 34
        }
      },
      "source": [
        "vehiculos_traning.shape"
      ],
      "execution_count": 8,
      "outputs": [
        {
          "output_type": "execute_result",
          "data": {
            "text/plain": [
              "(28431, 5)"
            ]
          },
          "metadata": {
            "tags": []
          },
          "execution_count": 8
        }
      ]
    },
    {
      "cell_type": "code",
      "metadata": {
        "id": "jAljgKeaNOID",
        "colab_type": "code",
        "colab": {}
      },
      "source": [
        "vehiculos_test = vehiculos[~vehiculos.index.isin(vehiculos_traning.index)]"
      ],
      "execution_count": 0,
      "outputs": []
    },
    {
      "cell_type": "code",
      "metadata": {
        "id": "qDCv_FS4OQH_",
        "colab_type": "code",
        "outputId": "e6067c35-2225-4e4d-9287-1ca20a9e0c0d",
        "colab": {
          "base_uri": "https://localhost:8080/",
          "height": 34
        }
      },
      "source": [
        "vehiculos_test.shape "
      ],
      "execution_count": 10,
      "outputs": [
        {
          "output_type": "execute_result",
          "data": {
            "text/plain": [
              "(7108, 5)"
            ]
          },
          "metadata": {
            "tags": []
          },
          "execution_count": 10
        }
      ]
    },
    {
      "cell_type": "code",
      "metadata": {
        "id": "4HiZTUJbO6D4",
        "colab_type": "code",
        "colab": {}
      },
      "source": [
        "variables_independientes = [\"consumo_litros_milla\",\"cilindros\",\"desplazamiento\"]"
      ],
      "execution_count": 0,
      "outputs": []
    },
    {
      "cell_type": "code",
      "metadata": {
        "id": "BRKJAacrP_XU",
        "colab_type": "code",
        "colab": {
          "base_uri": "https://localhost:8080/",
          "height": 105
        },
        "outputId": "242c5276-a9cc-4f84-adbd-d8d00f528bbb"
      },
      "source": [
        "variables_dependiente = \"co2\"\n",
        "X = vehiculos_training[variables_independientes].as_matrix()\n",
        "Y = vehiculos_training[variables_dependiente].as_matrix()"
      ],
      "execution_count": 14,
      "outputs": [
        {
          "output_type": "stream",
          "text": [
            "/usr/local/lib/python3.6/dist-packages/ipykernel_launcher.py:2: FutureWarning: Method .as_matrix will be removed in a future version. Use .values instead.\n",
            "  \n",
            "/usr/local/lib/python3.6/dist-packages/ipykernel_launcher.py:3: FutureWarning: Method .as_matrix will be removed in a future version. Use .values instead.\n",
            "  This is separate from the ipykernel package so we can avoid doing imports until\n"
          ],
          "name": "stderr"
        }
      ]
    },
    {
      "cell_type": "code",
      "metadata": {
        "id": "IG_P1xugRTJI",
        "colab_type": "code",
        "colab": {}
      },
      "source": [
        "X_T = X.T  # para hacer transpuesta"
      ],
      "execution_count": 0,
      "outputs": []
    },
    {
      "cell_type": "code",
      "metadata": {
        "id": "W4HOZCAJRb0_",
        "colab_type": "code",
        "colab": {}
      },
      "source": [
        "betas = np.linalg.inv(X_T @ X) @X_T @Y # la formula de betas "
      ],
      "execution_count": 0,
      "outputs": []
    },
    {
      "cell_type": "code",
      "metadata": {
        "id": "ahCayQR_R6p4",
        "colab_type": "code",
        "colab": {
          "base_uri": "https://localhost:8080/",
          "height": 34
        },
        "outputId": "3fc329e7-2105-42d9-a355-dc70abe9ce9b"
      },
      "source": [
        "betas"
      ],
      "execution_count": 18,
      "outputs": [
        {
          "output_type": "execute_result",
          "data": {
            "text/plain": [
              "array([ 2.30632325e+03, -6.03050665e-01,  3.75306843e+00])"
            ]
          },
          "metadata": {
            "tags": []
          },
          "execution_count": 18
        }
      ]
    },
    {
      "cell_type": "code",
      "metadata": {
        "id": "aljwdXIER8b8",
        "colab_type": "code",
        "colab": {
          "base_uri": "https://localhost:8080/",
          "height": 71
        },
        "outputId": "1077104f-dd16-447c-ee0b-a0b48460a3ea"
      },
      "source": [
        "alfa = Y.mean() - np.dot(betas,vehiculos_training[variables_independientes].mean().as_matrix())"
      ],
      "execution_count": 20,
      "outputs": [
        {
          "output_type": "stream",
          "text": [
            "/usr/local/lib/python3.6/dist-packages/ipykernel_launcher.py:1: FutureWarning: Method .as_matrix will be removed in a future version. Use .values instead.\n",
            "  \"\"\"Entry point for launching an IPython kernel.\n"
          ],
          "name": "stderr"
        }
      ]
    },
    {
      "cell_type": "code",
      "metadata": {
        "id": "6j1ZP66ZoE2Z",
        "colab_type": "code",
        "colab": {}
      },
      "source": [
        ""
      ],
      "execution_count": 0,
      "outputs": []
    },
    {
      "cell_type": "code",
      "metadata": {
        "id": "OVg6rxLBSqY7",
        "colab_type": "code",
        "colab": {
          "base_uri": "https://localhost:8080/",
          "height": 34
        },
        "outputId": "877e8305-b925-400d-fc24-b783dba6fdd0"
      },
      "source": [
        "alfa"
      ],
      "execution_count": 21,
      "outputs": [
        {
          "output_type": "execute_result",
          "data": {
            "text/plain": [
              "0.36083328573641893"
            ]
          },
          "metadata": {
            "tags": []
          },
          "execution_count": 21
        }
      ]
    },
    {
      "cell_type": "code",
      "metadata": {
        "id": "GuvkKCAlSsYi",
        "colab_type": "code",
        "colab": {}
      },
      "source": [
        "def predecir(r):\n",
        "  return alfa + np.dot(betas,r.values)"
      ],
      "execution_count": 0,
      "outputs": []
    },
    {
      "cell_type": "code",
      "metadata": {
        "id": "jLIcrle7VkC0",
        "colab_type": "code",
        "colab": {}
      },
      "source": [
        "vehiculos_training['co2_pred'] = vehiculos_training[variables_independientes].apply(predecir,axis=1)"
      ],
      "execution_count": 0,
      "outputs": []
    },
    {
      "cell_type": "code",
      "metadata": {
        "id": "jv6UuXY4WnRA",
        "colab_type": "code",
        "colab": {
          "base_uri": "https://localhost:8080/",
          "height": 119
        },
        "outputId": "5d533845-e46d-4c21-8da7-1df4a8f92a93"
      },
      "source": [
        "vehiculos_test[\"co2_pred\"] = vehiculos_test[variables_independientes].apply(predecir,axis=1)"
      ],
      "execution_count": 26,
      "outputs": [
        {
          "output_type": "stream",
          "text": [
            "/usr/local/lib/python3.6/dist-packages/ipykernel_launcher.py:1: SettingWithCopyWarning: \n",
            "A value is trying to be set on a copy of a slice from a DataFrame.\n",
            "Try using .loc[row_indexer,col_indexer] = value instead\n",
            "\n",
            "See the caveats in the documentation: http://pandas.pydata.org/pandas-docs/stable/indexing.html#indexing-view-versus-copy\n",
            "  \"\"\"Entry point for launching an IPython kernel.\n"
          ],
          "name": "stderr"
        }
      ]
    },
    {
      "cell_type": "code",
      "metadata": {
        "id": "5FvihDNUXtjw",
        "colab_type": "code",
        "colab": {
          "base_uri": "https://localhost:8080/",
          "height": 204
        },
        "outputId": "9e0526f5-e1f6-44ba-a34b-2ae807fe9895"
      },
      "source": [
        "vehiculos_training.head()"
      ],
      "execution_count": 27,
      "outputs": [
        {
          "output_type": "execute_result",
          "data": {
            "text/html": [
              "<div>\n",
              "<style scoped>\n",
              "    .dataframe tbody tr th:only-of-type {\n",
              "        vertical-align: middle;\n",
              "    }\n",
              "\n",
              "    .dataframe tbody tr th {\n",
              "        vertical-align: top;\n",
              "    }\n",
              "\n",
              "    .dataframe thead th {\n",
              "        text-align: right;\n",
              "    }\n",
              "</style>\n",
              "<table border=\"1\" class=\"dataframe\">\n",
              "  <thead>\n",
              "    <tr style=\"text-align: right;\">\n",
              "      <th></th>\n",
              "      <th>desplazamiento</th>\n",
              "      <th>cilindros</th>\n",
              "      <th>consumo</th>\n",
              "      <th>co2</th>\n",
              "      <th>consumo_litros_milla</th>\n",
              "      <th>co2_pred</th>\n",
              "    </tr>\n",
              "  </thead>\n",
              "  <tbody>\n",
              "    <tr>\n",
              "      <th>2303</th>\n",
              "      <td>4.4</td>\n",
              "      <td>8.0</td>\n",
              "      <td>20</td>\n",
              "      <td>456.000000</td>\n",
              "      <td>0.189271</td>\n",
              "      <td>448.568884</td>\n",
              "    </tr>\n",
              "    <tr>\n",
              "      <th>30551</th>\n",
              "      <td>2.2</td>\n",
              "      <td>4.0</td>\n",
              "      <td>21</td>\n",
              "      <td>423.190476</td>\n",
              "      <td>0.180258</td>\n",
              "      <td>421.937719</td>\n",
              "    </tr>\n",
              "    <tr>\n",
              "      <th>29622</th>\n",
              "      <td>3.6</td>\n",
              "      <td>6.0</td>\n",
              "      <td>19</td>\n",
              "      <td>467.736842</td>\n",
              "      <td>0.199232</td>\n",
              "      <td>469.747212</td>\n",
              "    </tr>\n",
              "    <tr>\n",
              "      <th>21045</th>\n",
              "      <td>3.0</td>\n",
              "      <td>6.0</td>\n",
              "      <td>18</td>\n",
              "      <td>493.722222</td>\n",
              "      <td>0.210301</td>\n",
              "      <td>493.022795</td>\n",
              "    </tr>\n",
              "    <tr>\n",
              "      <th>17299</th>\n",
              "      <td>1.6</td>\n",
              "      <td>4.0</td>\n",
              "      <td>29</td>\n",
              "      <td>306.448276</td>\n",
              "      <td>0.130531</td>\n",
              "      <td>305.001095</td>\n",
              "    </tr>\n",
              "  </tbody>\n",
              "</table>\n",
              "</div>"
            ],
            "text/plain": [
              "       desplazamiento  cilindros  ...  consumo_litros_milla    co2_pred\n",
              "2303              4.4        8.0  ...              0.189271  448.568884\n",
              "30551             2.2        4.0  ...              0.180258  421.937719\n",
              "29622             3.6        6.0  ...              0.199232  469.747212\n",
              "21045             3.0        6.0  ...              0.210301  493.022795\n",
              "17299             1.6        4.0  ...              0.130531  305.001095\n",
              "\n",
              "[5 rows x 6 columns]"
            ]
          },
          "metadata": {
            "tags": []
          },
          "execution_count": 27
        }
      ]
    },
    {
      "cell_type": "code",
      "metadata": {
        "id": "PsfPpA7XYDJg",
        "colab_type": "code",
        "colab": {
          "base_uri": "https://localhost:8080/",
          "height": 204
        },
        "outputId": "f93fec92-695c-4be3-bbb4-8e5379901692"
      },
      "source": [
        "vehiculos_test.head()"
      ],
      "execution_count": 28,
      "outputs": [
        {
          "output_type": "execute_result",
          "data": {
            "text/html": [
              "<div>\n",
              "<style scoped>\n",
              "    .dataframe tbody tr th:only-of-type {\n",
              "        vertical-align: middle;\n",
              "    }\n",
              "\n",
              "    .dataframe tbody tr th {\n",
              "        vertical-align: top;\n",
              "    }\n",
              "\n",
              "    .dataframe thead th {\n",
              "        text-align: right;\n",
              "    }\n",
              "</style>\n",
              "<table border=\"1\" class=\"dataframe\">\n",
              "  <thead>\n",
              "    <tr style=\"text-align: right;\">\n",
              "      <th></th>\n",
              "      <th>desplazamiento</th>\n",
              "      <th>cilindros</th>\n",
              "      <th>consumo</th>\n",
              "      <th>co2</th>\n",
              "      <th>consumo_litros_milla</th>\n",
              "      <th>co2_pred</th>\n",
              "    </tr>\n",
              "  </thead>\n",
              "  <tbody>\n",
              "    <tr>\n",
              "      <th>6</th>\n",
              "      <td>2.2</td>\n",
              "      <td>4.0</td>\n",
              "      <td>24</td>\n",
              "      <td>370.291667</td>\n",
              "      <td>0.157725</td>\n",
              "      <td>369.971177</td>\n",
              "    </tr>\n",
              "    <tr>\n",
              "      <th>7</th>\n",
              "      <td>3.0</td>\n",
              "      <td>6.0</td>\n",
              "      <td>20</td>\n",
              "      <td>444.350000</td>\n",
              "      <td>0.189271</td>\n",
              "      <td>444.520689</td>\n",
              "    </tr>\n",
              "    <tr>\n",
              "      <th>11</th>\n",
              "      <td>2.3</td>\n",
              "      <td>4.0</td>\n",
              "      <td>22</td>\n",
              "      <td>403.954545</td>\n",
              "      <td>0.172064</td>\n",
              "      <td>403.416101</td>\n",
              "    </tr>\n",
              "    <tr>\n",
              "      <th>12</th>\n",
              "      <td>2.3</td>\n",
              "      <td>4.0</td>\n",
              "      <td>24</td>\n",
              "      <td>370.291667</td>\n",
              "      <td>0.157725</td>\n",
              "      <td>370.346484</td>\n",
              "    </tr>\n",
              "    <tr>\n",
              "      <th>15</th>\n",
              "      <td>2.5</td>\n",
              "      <td>5.0</td>\n",
              "      <td>20</td>\n",
              "      <td>444.350000</td>\n",
              "      <td>0.189271</td>\n",
              "      <td>443.247206</td>\n",
              "    </tr>\n",
              "  </tbody>\n",
              "</table>\n",
              "</div>"
            ],
            "text/plain": [
              "    desplazamiento  cilindros  ...  consumo_litros_milla    co2_pred\n",
              "6              2.2        4.0  ...              0.157725  369.971177\n",
              "7              3.0        6.0  ...              0.189271  444.520689\n",
              "11             2.3        4.0  ...              0.172064  403.416101\n",
              "12             2.3        4.0  ...              0.157725  370.346484\n",
              "15             2.5        5.0  ...              0.189271  443.247206\n",
              "\n",
              "[5 rows x 6 columns]"
            ]
          },
          "metadata": {
            "tags": []
          },
          "execution_count": 28
        }
      ]
    },
    {
      "cell_type": "code",
      "metadata": {
        "id": "isQOR6qPYYql",
        "colab_type": "code",
        "colab": {}
      },
      "source": [
        "modelo_formula = \"y ~ {alfa:.3f} + {beta_1:.2f}*desplazamiento + {beta_2:.2f}*cilindros + {beta_3:.3f}*consumo_litros_milla\".format(alfa=alfa, beta_1=betas[0],beta_2=betas[1],beta_3=betas[2])"
      ],
      "execution_count": 0,
      "outputs": []
    },
    {
      "cell_type": "code",
      "metadata": {
        "id": "0vIRHDw_aHSK",
        "colab_type": "code",
        "colab": {
          "base_uri": "https://localhost:8080/",
          "height": 34
        },
        "outputId": "bb1c6bf4-cbed-4f6f-e141-b59655cfdfe5"
      },
      "source": [
        "modelo_formula"
      ],
      "execution_count": 35,
      "outputs": [
        {
          "output_type": "execute_result",
          "data": {
            "text/plain": [
              "'y ~ 0.361 + 2306.32*desplazamiento + -0.60*cilindros + 3.753*consumo_litros_milla'"
            ]
          },
          "metadata": {
            "tags": []
          },
          "execution_count": 35
        }
      ]
    },
    {
      "cell_type": "code",
      "metadata": {
        "id": "iDFnUoxWaLyx",
        "colab_type": "code",
        "colab": {
          "base_uri": "https://localhost:8080/",
          "height": 823
        },
        "outputId": "59abfa53-2744-44eb-f42b-aa6e56483125"
      },
      "source": [
        "%matplotlib inline\n",
        "import matplotlib.pyplot as plt\n",
        "plt.rcParams['figure.figsize'] = (12, 12)\n",
        "plt.rcParams['font.size'] = 16\n",
        "plt.scatter(vehiculos_test.consumo_litros_milla,vehiculos_test.co2,alpha=0.5,label=\"Real\")\n",
        "plt.text(0.1,850,modelo_formula)\n",
        "plt.plot(vehiculos_test.consumo_litros_milla,vehiculos_test.co2_pred,c=\"black\",label = \"Prediccion\")\n",
        "plt.xlabel(\"Consumo combustible ( litros / milla)\")\n",
        "plt.ylabel(\"Emision de Co2 gramos/Milla\")\n",
        "plt.legend()"
      ],
      "execution_count": 39,
      "outputs": [
        {
          "output_type": "execute_result",
          "data": {
            "text/plain": [
              "<matplotlib.legend.Legend at 0x7f3b01f06e80>"
            ]
          },
          "metadata": {
            "tags": []
          },
          "execution_count": 39
        },
        {
          "output_type": "display_data",
          "data": {
            "image/png": "[encoded data removed]",
            "text/plain": [
              "<Figure size 864x864 with 1 Axes>"
            ]
          },
          "metadata": {
            "tags": []
          }
        }
      ]
    },
    {
      "cell_type": "code",
      "metadata": {
        "id": "uJfauS73ejwO",
        "colab_type": "code",
        "colab": {}
      },
      "source": [
        "def error_cuadratico_medio(y, y_pred):\n",
        "  return np.sum(y-y_pred)**2/len(y)\n",
        "\n"
      ],
      "execution_count": 0,
      "outputs": []
    },
    {
      "cell_type": "code",
      "metadata": {
        "id": "C63M8X49gqQh",
        "colab_type": "code",
        "colab": {}
      },
      "source": [
        ""
      ],
      "execution_count": 0,
      "outputs": []
    },
    {
      "cell_type": "code",
      "metadata": {
        "id": "Bl93JPzBgm-B",
        "colab_type": "code",
        "colab": {}
      },
      "source": [
        "error_training = error_cuadratico_medio(vehiculos_training[vehiculos_training.co2,vehiculos_training.co2_pred])"
      ],
      "execution_count": 0,
      "outputs": []
    },
    {
      "cell_type": "code",
      "metadata": {
        "id": "4L4lowe2gPbZ",
        "colab_type": "code",
        "colab": {}
      },
      "source": [
        "error_test = error_cuadratico_medio(vehiculos_test.co2,vehiculos_test.co2_pred)"
      ],
      "execution_count": 0,
      "outputs": []
    },
    {
      "cell_type": "code",
      "metadata": {
        "id": "r4C9mV6tge1p",
        "colab_type": "code",
        "colab": {
          "base_uri": "https://localhost:8080/",
          "height": 34
        },
        "outputId": "838b181a-9c04-474b-a1ba-fc86e18e536a"
      },
      "source": [
        "error_test"
      ],
      "execution_count": 48,
      "outputs": [
        {
          "output_type": "execute_result",
          "data": {
            "text/plain": [
              "25.328883770362037"
            ]
          },
          "metadata": {
            "tags": []
          },
          "execution_count": 48
        }
      ]
    }
  ]
}